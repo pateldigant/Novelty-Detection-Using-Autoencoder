{
 "cells": [
  {
   "cell_type": "code",
   "execution_count": 1,
   "metadata": {},
   "outputs": [],
   "source": [
    "import cv2\n",
    "import matplotlib.pyplot as plt\n",
    "import glob\n",
    "import numpy as np"
   ]
  },
  {
   "cell_type": "code",
   "execution_count": 37,
   "metadata": {},
   "outputs": [],
   "source": [
    "from keras.layers import Input, Dense, Conv2D, MaxPooling2D, UpSampling2D\n",
    "from keras.models import Model\n",
    "from keras import backend as K\n",
    "\n",
    "input_img = Input(shape=(28, 28, 1))  # adapt this if using `channels_first` image data format\n",
    "\n",
    "x = Conv2D(16, (3, 3), activation='relu', padding='same')(input_img)\n",
    "x = MaxPooling2D((2, 2), padding='same')(x)\n",
    "x = Conv2D(8, (3, 3), activation='relu', padding='same')(x)\n",
    "x = MaxPooling2D((2, 2), padding='same')(x)\n",
    "x = Conv2D(8, (3, 3), activation='relu', padding='same')(x)\n",
    "encoded = MaxPooling2D((2, 2), padding='same')(x)\n",
    "\n",
    "# at this point the representation is (4, 4, 8) i.e. 128-dimensional\n",
    "\n",
    "x = Conv2D(8, (3, 3), activation='relu', padding='same')(encoded)\n",
    "x = UpSampling2D((2, 2))(x)\n",
    "x = Conv2D(8, (3, 3), activation='relu', padding='same')(x)\n",
    "x = UpSampling2D((2, 2))(x)\n",
    "x = Conv2D(16, (3, 3), activation='relu')(x)\n",
    "x = UpSampling2D((2, 2))(x)\n",
    "decoded = Conv2D(1, (3, 3), activation='sigmoid', padding='same')(x)\n",
    "\n",
    "autoencoder = Model(input_img, decoded)\n",
    "autoencoder.compile(optimizer='adadelta', loss='binary_crossentropy')"
   ]
  },
  {
   "cell_type": "code",
   "execution_count": 38,
   "metadata": {},
   "outputs": [],
   "source": [
    "all_images = []\n",
    "img_list = glob.glob('resized_images/*.jpg')"
   ]
  },
  {
   "cell_type": "code",
   "execution_count": 39,
   "metadata": {},
   "outputs": [],
   "source": [
    "for image in img_list:\n",
    "    img = cv2.imread(image,0)\n",
    "#     img = img.astype('float32') / 255.\n",
    "    img = np.reshape(img,(28,28,1))\n",
    "    all_images.append(img)\n",
    "all_images = np.array(all_images)"
   ]
  },
  {
   "cell_type": "code",
   "execution_count": 40,
   "metadata": {},
   "outputs": [
    {
     "data": {
      "text/plain": [
       "(1032, 28, 28, 1)"
      ]
     },
     "execution_count": 40,
     "metadata": {},
     "output_type": "execute_result"
    }
   ],
   "source": [
    "all_images.shape"
   ]
  },
  {
   "cell_type": "code",
   "execution_count": 41,
   "metadata": {},
   "outputs": [],
   "source": [
    "train = all_images[:700]"
   ]
  },
  {
   "cell_type": "code",
   "execution_count": 42,
   "metadata": {},
   "outputs": [],
   "source": [
    "test = all_images[700:]"
   ]
  },
  {
   "cell_type": "code",
   "execution_count": 43,
   "metadata": {},
   "outputs": [
    {
     "name": "stdout",
     "output_type": "stream",
     "text": [
      "Train on 700 samples, validate on 332 samples\n",
      "Epoch 1/100\n",
      "700/700 [==============================] - 4s 5ms/step - loss: -1200.1935 - val_loss: -1786.2943\n",
      "Epoch 2/100\n",
      "700/700 [==============================] - 2s 3ms/step - loss: -1802.3787 - val_loss: -1794.3291\n",
      "Epoch 3/100\n",
      "700/700 [==============================] - 2s 3ms/step - loss: -1806.6238 - val_loss: -1795.7928\n",
      "Epoch 4/100\n",
      "700/700 [==============================] - 2s 3ms/step - loss: -1807.6330 - val_loss: -1796.3157\n",
      "Epoch 5/100\n",
      "700/700 [==============================] - 2s 3ms/step - loss: -1808.0364 - val_loss: -1796.5756\n",
      "Epoch 6/100\n",
      "700/700 [==============================] - 2s 3ms/step - loss: -1808.2460 - val_loss: -1796.7205\n",
      "Epoch 7/100\n",
      "700/700 [==============================] - 2s 3ms/step - loss: -1808.3758 - val_loss: -1796.8078\n",
      "Epoch 8/100\n",
      "700/700 [==============================] - 2s 3ms/step - loss: -1808.4563 - val_loss: -1796.8678\n",
      "Epoch 9/100\n",
      "700/700 [==============================] - 2s 3ms/step - loss: -1808.5095 - val_loss: -1796.9035\n",
      "Epoch 10/100\n",
      "700/700 [==============================] - 2s 3ms/step - loss: -1808.5444 - val_loss: -1796.9263\n",
      "Epoch 11/100\n",
      "700/700 [==============================] - 2s 3ms/step - loss: -1808.5708 - val_loss: -1796.9448\n",
      "Epoch 12/100\n",
      "700/700 [==============================] - 2s 3ms/step - loss: -1808.5929 - val_loss: -1796.9597\n",
      "Epoch 13/100\n",
      "700/700 [==============================] - 2s 3ms/step - loss: -1808.6102 - val_loss: -1796.9719\n",
      "Epoch 14/100\n",
      "700/700 [==============================] - 2s 3ms/step - loss: -1808.6239 - val_loss: -1796.9829\n",
      "Epoch 15/100\n",
      "700/700 [==============================] - 2s 3ms/step - loss: -1808.6350 - val_loss: -1796.9906\n",
      "Epoch 16/100\n",
      "700/700 [==============================] - 2s 3ms/step - loss: -1808.6442 - val_loss: -1796.9979\n",
      "Epoch 17/100\n",
      "700/700 [==============================] - 2s 3ms/step - loss: -1808.6519 - val_loss: -1797.0050\n",
      "Epoch 18/100\n",
      "700/700 [==============================] - 2s 3ms/step - loss: -1808.6586 - val_loss: -1797.0108\n",
      "Epoch 19/100\n",
      "700/700 [==============================] - 2s 3ms/step - loss: -1808.6635 - val_loss: -1797.0141\n",
      "Epoch 20/100\n",
      "700/700 [==============================] - 2s 3ms/step - loss: -1808.6679 - val_loss: -1797.0179\n",
      "Epoch 21/100\n",
      "700/700 [==============================] - 2s 3ms/step - loss: -1808.6731 - val_loss: -1797.0212\n",
      "Epoch 22/100\n",
      "700/700 [==============================] - 2s 3ms/step - loss: -1808.6767 - val_loss: -1797.0234\n",
      "Epoch 23/100\n",
      "700/700 [==============================] - 2s 2ms/step - loss: -1808.6795 - val_loss: -1797.0256\n",
      "Epoch 24/100\n",
      "700/700 [==============================] - 2s 2ms/step - loss: -1808.6819 - val_loss: -1797.0268\n",
      "Epoch 25/100\n",
      "700/700 [==============================] - 2s 2ms/step - loss: -1808.6837 - val_loss: -1797.0275\n",
      "Epoch 26/100\n",
      "700/700 [==============================] - 2s 3ms/step - loss: -1808.6848 - val_loss: -1797.0287\n",
      "Epoch 27/100\n",
      "700/700 [==============================] - 2s 3ms/step - loss: -1808.6859 - val_loss: -1797.0290\n",
      "Epoch 28/100\n",
      "700/700 [==============================] - 2s 3ms/step - loss: -1808.6868 - val_loss: -1797.0293\n",
      "Epoch 29/100\n",
      "700/700 [==============================] - 2s 3ms/step - loss: -1808.6877 - val_loss: -1797.0294\n",
      "Epoch 30/100\n",
      "700/700 [==============================] - 2s 3ms/step - loss: -1808.6884 - val_loss: -1797.0295\n",
      "Epoch 31/100\n",
      "700/700 [==============================] - 2s 3ms/step - loss: -1808.6889 - val_loss: -1797.0295\n",
      "Epoch 32/100\n",
      "700/700 [==============================] - 2s 3ms/step - loss: -1808.6893 - val_loss: -1797.0297\n",
      "Epoch 33/100\n",
      "700/700 [==============================] - 2s 3ms/step - loss: -1808.6897 - val_loss: -1797.0297\n",
      "Epoch 34/100\n",
      "700/700 [==============================] - 2s 3ms/step - loss: -1808.6898 - val_loss: -1797.0298\n",
      "Epoch 35/100\n",
      "700/700 [==============================] - 2s 2ms/step - loss: -1808.6900 - val_loss: -1797.0298\n",
      "Epoch 36/100\n",
      "700/700 [==============================] - 2s 2ms/step - loss: -1808.6902 - val_loss: -1797.0298\n",
      "Epoch 37/100\n",
      "700/700 [==============================] - 2s 2ms/step - loss: -1808.6901 - val_loss: -1797.0298\n",
      "Epoch 38/100\n",
      "700/700 [==============================] - 2s 3ms/step - loss: -1808.6902 - val_loss: -1797.0298\n",
      "Epoch 39/100\n",
      "700/700 [==============================] - 2s 3ms/step - loss: -1808.6902 - val_loss: -1797.0298\n",
      "Epoch 40/100\n",
      "700/700 [==============================] - 2s 3ms/step - loss: -1808.6902 - val_loss: -1797.0299\n",
      "Epoch 41/100\n",
      "700/700 [==============================] - 2s 3ms/step - loss: -1808.6902 - val_loss: -1797.0299\n",
      "Epoch 42/100\n",
      "700/700 [==============================] - 2s 3ms/step - loss: -1808.6902 - val_loss: -1797.0299\n",
      "Epoch 43/100\n",
      "700/700 [==============================] - 2s 3ms/step - loss: -1808.6903 - val_loss: -1797.0299\n",
      "Epoch 44/100\n",
      "700/700 [==============================] - 2s 3ms/step - loss: -1808.6903 - val_loss: -1797.0299\n",
      "Epoch 45/100\n",
      "700/700 [==============================] - 2s 3ms/step - loss: -1808.6904 - val_loss: -1797.0299\n",
      "Epoch 46/100\n",
      "700/700 [==============================] - 2s 3ms/step - loss: -1808.6904 - val_loss: -1797.0299\n",
      "Epoch 47/100\n",
      "700/700 [==============================] - 2s 3ms/step - loss: -1808.6904 - val_loss: -1797.0299\n",
      "Epoch 48/100\n",
      "700/700 [==============================] - 2s 3ms/step - loss: -1808.6905 - val_loss: -1797.0299\n",
      "Epoch 49/100\n",
      "700/700 [==============================] - 2s 3ms/step - loss: -1808.6905 - val_loss: -1797.0299\n",
      "Epoch 50/100\n",
      "700/700 [==============================] - 2s 3ms/step - loss: -1808.6904 - val_loss: -1797.0299\n",
      "Epoch 51/100\n",
      "700/700 [==============================] - 2s 3ms/step - loss: -1808.6905 - val_loss: -1797.0299\n",
      "Epoch 52/100\n",
      "700/700 [==============================] - 2s 3ms/step - loss: -1808.6905 - val_loss: -1797.0299\n",
      "Epoch 53/100\n",
      "700/700 [==============================] - 2s 3ms/step - loss: -1808.6905 - val_loss: -1797.0299\n",
      "Epoch 54/100\n",
      "700/700 [==============================] - 2s 3ms/step - loss: -1808.6905 - val_loss: -1797.0299\n",
      "Epoch 55/100\n",
      "700/700 [==============================] - 2s 3ms/step - loss: -1808.6905 - val_loss: -1797.0299\n",
      "Epoch 56/100\n",
      "700/700 [==============================] - 2s 3ms/step - loss: -1808.6904 - val_loss: -1797.0299\n",
      "Epoch 57/100\n",
      "700/700 [==============================] - 2s 3ms/step - loss: -1808.6905 - val_loss: -1797.0299\n",
      "Epoch 58/100\n",
      "700/700 [==============================] - 2s 3ms/step - loss: -1808.6904 - val_loss: -1797.0299\n",
      "Epoch 59/100\n",
      "700/700 [==============================] - 2s 3ms/step - loss: -1808.6905 - val_loss: -1797.0299\n",
      "Epoch 60/100\n",
      "700/700 [==============================] - 2s 3ms/step - loss: -1808.6905 - val_loss: -1797.0299\n",
      "Epoch 61/100\n",
      "700/700 [==============================] - 2s 3ms/step - loss: -1808.6905 - val_loss: -1797.0299\n",
      "Epoch 62/100\n",
      "700/700 [==============================] - 2s 3ms/step - loss: -1808.6905 - val_loss: -1797.0299\n",
      "Epoch 63/100\n",
      "700/700 [==============================] - 2s 3ms/step - loss: -1808.6905 - val_loss: -1797.0300\n",
      "Epoch 64/100\n",
      "700/700 [==============================] - 2s 3ms/step - loss: -1808.6905 - val_loss: -1797.0300\n",
      "Epoch 65/100\n",
      "700/700 [==============================] - 2s 3ms/step - loss: -1808.6905 - val_loss: -1797.0300\n",
      "Epoch 66/100\n",
      "700/700 [==============================] - 2s 3ms/step - loss: -1808.6905 - val_loss: -1797.0300\n",
      "Epoch 67/100\n",
      "700/700 [==============================] - 2s 3ms/step - loss: -1808.6906 - val_loss: -1797.0300\n",
      "Epoch 68/100\n",
      "700/700 [==============================] - 2s 3ms/step - loss: -1808.6905 - val_loss: -1797.0300\n",
      "Epoch 69/100\n",
      "700/700 [==============================] - 2s 2ms/step - loss: -1808.6906 - val_loss: -1797.0300\n",
      "Epoch 70/100\n",
      "700/700 [==============================] - 2s 2ms/step - loss: -1808.6905 - val_loss: -1797.0300\n",
      "Epoch 71/100\n",
      "700/700 [==============================] - 2s 3ms/step - loss: -1808.6906 - val_loss: -1797.0300\n",
      "Epoch 72/100\n",
      "700/700 [==============================] - 2s 3ms/step - loss: -1808.6906 - val_loss: -1797.0300\n",
      "Epoch 73/100\n",
      "700/700 [==============================] - 2s 3ms/step - loss: -1808.6906 - val_loss: -1797.0300\n",
      "Epoch 74/100\n",
      "700/700 [==============================] - 2s 3ms/step - loss: -1808.6905 - val_loss: -1797.0300\n",
      "Epoch 75/100\n",
      "700/700 [==============================] - 2s 3ms/step - loss: -1808.6906 - val_loss: -1797.0300\n",
      "Epoch 76/100\n",
      "700/700 [==============================] - 2s 3ms/step - loss: -1808.6906 - val_loss: -1797.0300\n",
      "Epoch 77/100\n",
      "700/700 [==============================] - 2s 3ms/step - loss: -1808.6905 - val_loss: -1797.0300\n",
      "Epoch 78/100\n",
      "700/700 [==============================] - 2s 3ms/step - loss: -1808.6906 - val_loss: -1797.0300\n",
      "Epoch 79/100\n",
      "700/700 [==============================] - 2s 3ms/step - loss: -1808.6906 - val_loss: -1797.0300\n",
      "Epoch 80/100\n",
      "700/700 [==============================] - 2s 3ms/step - loss: -1808.6905 - val_loss: -1797.0300\n",
      "Epoch 81/100\n",
      "700/700 [==============================] - 2s 2ms/step - loss: -1808.6905 - val_loss: -1797.0300\n",
      "Epoch 82/100\n",
      "700/700 [==============================] - 2s 2ms/step - loss: -1808.6905 - val_loss: -1797.0300\n",
      "Epoch 83/100\n",
      "700/700 [==============================] - 2s 2ms/step - loss: -1808.6905 - val_loss: -1797.0300\n",
      "Epoch 84/100\n",
      "700/700 [==============================] - 2s 3ms/step - loss: -1808.6905 - val_loss: -1797.0300\n",
      "Epoch 85/100\n",
      "700/700 [==============================] - 2s 3ms/step - loss: -1808.6906 - val_loss: -1797.0300\n",
      "Epoch 86/100\n",
      "700/700 [==============================] - 2s 3ms/step - loss: -1808.6905 - val_loss: -1797.0300\n",
      "Epoch 87/100\n",
      "700/700 [==============================] - 2s 3ms/step - loss: -1808.6906 - val_loss: -1797.0300\n",
      "Epoch 88/100\n",
      "700/700 [==============================] - 2s 3ms/step - loss: -1808.6906 - val_loss: -1797.0300\n",
      "Epoch 89/100\n",
      "700/700 [==============================] - 2s 3ms/step - loss: -1808.6905 - val_loss: -1797.0300\n",
      "Epoch 90/100\n",
      "700/700 [==============================] - 2s 3ms/step - loss: -1808.6906 - val_loss: -1797.0300\n",
      "Epoch 91/100\n",
      "700/700 [==============================] - 2s 3ms/step - loss: -1808.6906 - val_loss: -1797.0300\n",
      "Epoch 92/100\n",
      "700/700 [==============================] - 2s 3ms/step - loss: -1808.6905 - val_loss: -1797.0300\n",
      "Epoch 93/100\n",
      "700/700 [==============================] - 2s 3ms/step - loss: -1808.6905 - val_loss: -1797.0300\n",
      "Epoch 94/100\n",
      "700/700 [==============================] - 2s 3ms/step - loss: -1808.6906 - val_loss: -1797.0300\n",
      "Epoch 95/100\n",
      "700/700 [==============================] - 2s 3ms/step - loss: -1808.6905 - val_loss: -1797.0300\n",
      "Epoch 96/100\n",
      "700/700 [==============================] - 2s 3ms/step - loss: -1808.6905 - val_loss: -1797.0300\n",
      "Epoch 97/100\n",
      "700/700 [==============================] - 2s 3ms/step - loss: -1808.6905 - val_loss: -1797.0300\n",
      "Epoch 98/100\n",
      "700/700 [==============================] - 2s 3ms/step - loss: -1808.6906 - val_loss: -1797.0300\n",
      "Epoch 99/100\n",
      "700/700 [==============================] - 2s 3ms/step - loss: -1808.6906 - val_loss: -1797.0300\n",
      "Epoch 100/100\n",
      "700/700 [==============================] - 2s 3ms/step - loss: -1808.6906 - val_loss: -1797.0300\n"
     ]
    },
    {
     "data": {
      "text/plain": [
       "<keras.callbacks.History at 0x2d11237fac8>"
      ]
     },
     "execution_count": 43,
     "metadata": {},
     "output_type": "execute_result"
    }
   ],
   "source": [
    "autoencoder.fit(train, train,\n",
    "                epochs=100,\n",
    "                batch_size=128,\n",
    "                shuffle=True,\n",
    "                validation_data=(test, test))"
   ]
  },
  {
   "cell_type": "code",
   "execution_count": 10,
   "metadata": {},
   "outputs": [
    {
     "name": "stdout",
     "output_type": "stream",
     "text": [
      "_________________________________________________________________\n",
      "Layer (type)                 Output Shape              Param #   \n",
      "=================================================================\n",
      "input_1 (InputLayer)         (None, 28, 28, 1)         0         \n",
      "_________________________________________________________________\n",
      "conv2d_1 (Conv2D)            (None, 28, 28, 16)        160       \n",
      "_________________________________________________________________\n",
      "max_pooling2d_1 (MaxPooling2 (None, 14, 14, 16)        0         \n",
      "_________________________________________________________________\n",
      "conv2d_2 (Conv2D)            (None, 14, 14, 8)         1160      \n",
      "_________________________________________________________________\n",
      "max_pooling2d_2 (MaxPooling2 (None, 7, 7, 8)           0         \n",
      "_________________________________________________________________\n",
      "conv2d_3 (Conv2D)            (None, 7, 7, 8)           584       \n",
      "_________________________________________________________________\n",
      "max_pooling2d_3 (MaxPooling2 (None, 4, 4, 8)           0         \n",
      "_________________________________________________________________\n",
      "conv2d_4 (Conv2D)            (None, 4, 4, 8)           584       \n",
      "_________________________________________________________________\n",
      "up_sampling2d_1 (UpSampling2 (None, 8, 8, 8)           0         \n",
      "_________________________________________________________________\n",
      "conv2d_5 (Conv2D)            (None, 8, 8, 8)           584       \n",
      "_________________________________________________________________\n",
      "up_sampling2d_2 (UpSampling2 (None, 16, 16, 8)         0         \n",
      "_________________________________________________________________\n",
      "conv2d_6 (Conv2D)            (None, 14, 14, 16)        1168      \n",
      "_________________________________________________________________\n",
      "up_sampling2d_3 (UpSampling2 (None, 28, 28, 16)        0         \n",
      "_________________________________________________________________\n",
      "conv2d_7 (Conv2D)            (None, 28, 28, 1)         145       \n",
      "=================================================================\n",
      "Total params: 4,385\n",
      "Trainable params: 4,385\n",
      "Non-trainable params: 0\n",
      "_________________________________________________________________\n"
     ]
    }
   ],
   "source": [
    "autoencoder.summary()"
   ]
  },
  {
   "cell_type": "code",
   "execution_count": 44,
   "metadata": {},
   "outputs": [],
   "source": [
    "autoencoder.save('model2.h5')"
   ]
  },
  {
   "cell_type": "code",
   "execution_count": 45,
   "metadata": {},
   "outputs": [],
   "source": [
    "predicted = autoencoder.predict([test[1:2]])"
   ]
  },
  {
   "cell_type": "code",
   "execution_count": 46,
   "metadata": {},
   "outputs": [
    {
     "data": {
      "text/plain": [
       "(1, 28, 28, 1)"
      ]
     },
     "execution_count": 46,
     "metadata": {},
     "output_type": "execute_result"
    }
   ],
   "source": [
    "predicted.shape"
   ]
  },
  {
   "cell_type": "code",
   "execution_count": 19,
   "metadata": {},
   "outputs": [],
   "source": [
    "from scipy import spatial"
   ]
  },
  {
   "cell_type": "code",
   "execution_count": 48,
   "metadata": {},
   "outputs": [],
   "source": [
    "actual = test[1:2]"
   ]
  },
  {
   "cell_type": "code",
   "execution_count": 49,
   "metadata": {},
   "outputs": [],
   "source": [
    "flat1 = predicted.flatten()\n",
    "flat2 = actual.flatten()"
   ]
  },
  {
   "cell_type": "code",
   "execution_count": 50,
   "metadata": {},
   "outputs": [
    {
     "data": {
      "text/plain": [
       "11.132881281511061"
      ]
     },
     "execution_count": 50,
     "metadata": {},
     "output_type": "execute_result"
    }
   ],
   "source": [
    "result = 1 - spatial.distance.cosine(flat1,flat2)\n",
    "result"
   ]
  },
  {
   "cell_type": "code",
   "execution_count": 51,
   "metadata": {},
   "outputs": [],
   "source": [
    "cat_img = cv2.imread('cat.jpg',0)\n",
    "cat_img = cv2.resize(cat_img,(28,28))\n",
    "# cat_img = cat_img.astype('float32') / 255.\n",
    "cat_img = np.reshape(cat_img,(1,28,28,1))"
   ]
  },
  {
   "cell_type": "code",
   "execution_count": 52,
   "metadata": {},
   "outputs": [],
   "source": [
    "cat_prediction = autoencoder.predict(cat_img)"
   ]
  },
  {
   "cell_type": "code",
   "execution_count": 53,
   "metadata": {},
   "outputs": [
    {
     "data": {
      "text/plain": [
       "(1, 28, 28, 1)"
      ]
     },
     "execution_count": 53,
     "metadata": {},
     "output_type": "execute_result"
    }
   ],
   "source": [
    "cat_prediction.shape"
   ]
  },
  {
   "cell_type": "code",
   "execution_count": 54,
   "metadata": {},
   "outputs": [],
   "source": [
    "cat_pred_flat = cat_prediction.flatten()\n",
    "cat_flat = cat_img.flatten()"
   ]
  },
  {
   "cell_type": "code",
   "execution_count": 55,
   "metadata": {},
   "outputs": [
    {
     "data": {
      "text/plain": [
       "14.282374352996786"
      ]
     },
     "execution_count": 55,
     "metadata": {},
     "output_type": "execute_result"
    }
   ],
   "source": [
    "result = 1 - spatial.distance.cosine(cat_flat,cat_pred_flat)\n",
    "result"
   ]
  },
  {
   "cell_type": "code",
   "execution_count": null,
   "metadata": {},
   "outputs": [],
   "source": []
  }
 ],
 "metadata": {
  "kernelspec": {
   "display_name": "Python 3",
   "language": "python",
   "name": "python3"
  },
  "language_info": {
   "codemirror_mode": {
    "name": "ipython",
    "version": 3
   },
   "file_extension": ".py",
   "mimetype": "text/x-python",
   "name": "python",
   "nbconvert_exporter": "python",
   "pygments_lexer": "ipython3",
   "version": "3.6.7"
  }
 },
 "nbformat": 4,
 "nbformat_minor": 2
}
